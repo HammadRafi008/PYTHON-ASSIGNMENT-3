{
 "cells": [
  {
   "cell_type": "code",
   "execution_count": 1,
   "metadata": {},
   "outputs": [
    {
     "name": "stdout",
     "output_type": "stream",
     "text": [
      "Twinkle, twinkle, little star, \n",
      "\tHow I wonder what you are! \n",
      "\t\tUp above the world so high, \n",
      "\t\tLike a diamond in the sky. \n",
      "Twinkle, twinkle, little star, \n",
      "\tHow I wonder what you are!\n"
     ]
    }
   ],
   "source": [
    "#QUESTION: 1\n",
    "\n",
    "print(\"Twinkle, twinkle, little star, \\n\\tHow I wonder what you are! \\n\\t\\tUp above the world so high, \\n\\t\\tLike a diamond in the sky. \\nTwinkle, twinkle, little star, \\n\\tHow I wonder what you are!\") "
   ]
  },
  {
   "cell_type": "code",
   "execution_count": 3,
   "metadata": {},
   "outputs": [
    {
     "name": "stdout",
     "output_type": "stream",
     "text": [
      "3.7.3\n"
     ]
    }
   ],
   "source": [
    "#QUESTION: 2\n",
    "\n",
    "import platform\n",
    "print(platform.python_version())"
   ]
  },
  {
   "cell_type": "code",
   "execution_count": 17,
   "metadata": {},
   "outputs": [
    {
     "name": "stdout",
     "output_type": "stream",
     "text": [
      "22-10-2021 23:32:14\n"
     ]
    }
   ],
   "source": [
    "#QUESTION: 3\n",
    "\n",
    "from datetime import datetime\n",
    "now = datetime.now()\n",
    "print (now.strftime(\"%d-%m-%Y %H:%M:%S\"))"
   ]
  },
  {
   "cell_type": "code",
   "execution_count": 22,
   "metadata": {},
   "outputs": [
    {
     "name": "stdout",
     "output_type": "stream",
     "text": [
      "Input the Radius of Circle: 4\n",
      "The Radius of Circle is: 4.0 is: 50.26548245743669\n"
     ]
    }
   ],
   "source": [
    "#QUESTION: 4\n",
    "\n",
    "from math import pi\n",
    "r=float(input(\"Input the Radius of Circle: \"))\n",
    "print(\"The Radius of Circle is: \"+ str(r) + \" is: \" + str(pi * r**2))"
   ]
  },
  {
   "cell_type": "code",
   "execution_count": 35,
   "metadata": {},
   "outputs": [
    {
     "name": "stdout",
     "output_type": "stream",
     "text": [
      "First Name: Hammad \n",
      "Last Name: Rafi\n",
      "Reversed Name is: Rafi Hammad \n"
     ]
    }
   ],
   "source": [
    "#QUESTION: 5\n",
    "\n",
    "first=str(input(\"First Name: \"))\n",
    "last= str(input(\"Last Name: \"))\n",
    "print(\"Reversed Name is: \"+ last +\" \"+ first)"
   ]
  },
  {
   "cell_type": "code",
   "execution_count": 42,
   "metadata": {},
   "outputs": [
    {
     "name": "stdout",
     "output_type": "stream",
     "text": [
      "Enter Number: 5\n",
      "Enter Number: 4\n",
      "Addition:  9\n"
     ]
    }
   ],
   "source": [
    "#QUESTION: 6\n",
    "\n",
    "a=int(input(\"Enter Number: \"))\n",
    "b=int(input(\"Enter Number: \"))\n",
    "print(\"Addition: \",a+b)"
   ]
  },
  {
   "cell_type": "code",
   "execution_count": 56,
   "metadata": {},
   "outputs": [
    {
     "name": "stdout",
     "output_type": "stream",
     "text": [
      "Enter marks of the Maths: 90\n",
      "Enter marks of the OOP: 80\n",
      "Enter marks of the ICT: 90\n",
      "Enter marks of the DSA: 70\n",
      "Enter marks of the ISE: 80\n",
      "Grade: B\n"
     ]
    }
   ],
   "source": [
    "#QUESTION: 7\n",
    "\n",
    "import math\n",
    "\n",
    "sub1=int(input(\"Enter marks of the Maths: \"))\n",
    "sub2=int(input(\"Enter marks of the OOP: \"))\n",
    "sub3=int(input(\"Enter marks of the ICT: \"))\n",
    "sub4=int(input(\"Enter marks of the DSA: \"))\n",
    "sub5=int(input(\"Enter marks of the ISE: \"))\n",
    "avg=(sub1+sub2+sub3+sub4+sub4)/5\n",
    "if(avg>=90 and avg<=100):\n",
    "    print(\"Grade: A\")\n",
    "elif(avg>=80 and avg<90):\n",
    "    print(\"Grade: B\")\n",
    "elif(avg>=70 and avg<80):\n",
    "    print(\"Grade: C\")\n",
    "elif(avg>=60 and avg<70):\n",
    "    print(\"Grade: D\")\n",
    "else:\n",
    "    print(\"Grade: F\")"
   ]
  },
  {
   "cell_type": "code",
   "execution_count": 65,
   "metadata": {},
   "outputs": [
    {
     "name": "stdout",
     "output_type": "stream",
     "text": [
      "Enter Number: 12\n",
      "Enter Number is Even\n"
     ]
    }
   ],
   "source": [
    "#QUESTION: 8\n",
    "\n",
    "a=int(input(\"Enter Number: \"))\n",
    "if a%2==0:\n",
    "    print(\"Enter Number is Even\")\n",
    "else:\n",
    "    print(\"Enter Number is Odd\")"
   ]
  },
  {
   "cell_type": "code",
   "execution_count": 69,
   "metadata": {},
   "outputs": [
    {
     "name": "stdout",
     "output_type": "stream",
     "text": [
      "5\n"
     ]
    }
   ],
   "source": [
    "#QUESTION: 9\n",
    "\n",
    "lst=[1,5,9,8,\"Hammad\"]\n",
    "print(len(lst))"
   ]
  },
  {
   "cell_type": "code",
   "execution_count": 79,
   "metadata": {},
   "outputs": [
    {
     "name": "stdout",
     "output_type": "stream",
     "text": [
      "27\n"
     ]
    }
   ],
   "source": [
    "#QUESTION: 10\n",
    "\n",
    "lst1=[1,5,6,7,8]\n",
    "print (sum(lst1))"
   ]
  },
  {
   "cell_type": "code",
   "execution_count": 80,
   "metadata": {},
   "outputs": [
    {
     "name": "stdout",
     "output_type": "stream",
     "text": [
      "8\n"
     ]
    }
   ],
   "source": [
    "#QUESTION: 11\n",
    "\n",
    "lst1=[1,5,6,7,8]\n",
    "print (max(lst1))"
   ]
  },
  {
   "cell_type": "code",
   "execution_count": 92,
   "metadata": {},
   "outputs": [
    {
     "name": "stdout",
     "output_type": "stream",
     "text": [
      "1\n",
      "1\n",
      "2\n",
      "3\n",
      "No Element is less than 5\n",
      "No Element is less than 5\n",
      "No Element is less than 5\n",
      "No Element is less than 5\n",
      "No Element is less than 5\n",
      "No Element is less than 5\n",
      "No Element is less than 5\n"
     ]
    }
   ],
   "source": [
    "#QUESTION: 12\n",
    "\n",
    "a = [1, 1, 2, 3, 5, 8, 13, 21, 34, 55, 89]\n",
    "for i in a:\n",
    "    if i<5:\n",
    "        print(i)\n",
    "    else:\n",
    "        print(\"No Element is less than 5\")"
   ]
  }
 ],
 "metadata": {
  "kernelspec": {
   "display_name": "Python 3",
   "language": "python",
   "name": "python3"
  },
  "language_info": {
   "codemirror_mode": {
    "name": "ipython",
    "version": 3
   },
   "file_extension": ".py",
   "mimetype": "text/x-python",
   "name": "python",
   "nbconvert_exporter": "python",
   "pygments_lexer": "ipython3",
   "version": "3.7.3"
  }
 },
 "nbformat": 4,
 "nbformat_minor": 2
}
